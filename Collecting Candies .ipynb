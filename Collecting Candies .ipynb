{
 "cells": [
  {
   "cell_type": "markdown",
   "metadata": {},
   "source": [
    "# Collecting Candies Problem"
   ]
  },
  {
   "cell_type": "markdown",
   "metadata": {},
   "source": [
    " Krishna loves candies a lot, so whenever he gets them, he stores them so that he can eat them later whenever he wants to.\n",
    "\n",
    "He has recently received N boxes of candies each containing Ci candies where Ci represents the total number of candies in the ith box. Krishna wants to store them in a single box. The only constraint is that he can choose any two boxes and store their joint contents in an empty box only. Assume that there are an infinite number of empty boxes available.\n",
    "\n",
    "At a time he can pick up any two boxes for transferring and if both the boxes contain X and Y number of candies respectively, then it takes him exactly X+Y seconds of time. As he is too eager to collect all of them he has approached you to tell him the minimum time in which all the candies can be collected."
   ]
  },
  {
   "cell_type": "markdown",
   "metadata": {},
   "source": [
    "### Input Format:\n",
    "\n",
    "The first line of input is the number of test case T\n",
    "Each test case is comprised of two inputs\n",
    "The first input of a test case is the number of boxes N\n",
    "The second input is N integers delimited by whitespace denoting the number of candies in each box\n",
    "### Output Format: \n",
    "Print minimum time required, in seconds, for each of the test cases. Print each output on a new line.\n",
    "\n",
    "### Constraints:\n",
    "\n",
    "1 < T < 10\n",
    "\n",
    "1 < N< 10000\n",
    "\n",
    "1 < [Candies in each box] < 100009"
   ]
  },
  {
   "cell_type": "code",
   "execution_count": 1,
   "metadata": {},
   "outputs": [
    {
     "name": "stdout",
     "output_type": "stream",
     "text": [
      "1\n",
      "4\n",
      "1 2 3 4\n",
      "19\n"
     ]
    }
   ],
   "source": [
    "T =  int(input())\n",
    "arr1 = []\n",
    "for i in range(0, T):\n",
    "    N = int(input())\n",
    "    arr = list(map(int,input().split()))\n",
    "    arr.sort()\n",
    "    count = arr[0]\n",
    "    for i in range(1, len(arr)):\n",
    "        count = count + arr[i]\n",
    "        arr1.append(count)\n",
    "print(sum(arr1))"
   ]
  },
  {
   "cell_type": "code",
   "execution_count": null,
   "metadata": {},
   "outputs": [],
   "source": [
    "#include <stdio.h>\n",
    "int main() \n",
    "{\n",
    "    int i,j;\n",
    "    int num_box=0,k=0,sum=0,times=0,tst_case,temp=0;\n",
    "    long c[10000],s[10000];\n",
    "    printf(\"Enter the number of test case:\");\n",
    "    scanf(\"%d\",&tst_case);\n",
    "    printf(\"Enter the number of boxes:\");\n",
    "    for(int l=0;l<tst_case;l++)\n",
    "    {\n",
    "        scanf(\"%d\",&num_box);\n",
    "    }\n",
    "    printf(\"Enter the number of candies in each box:\");\n",
    "    for(i=0;i<num_box;i++)\n",
    "    {\n",
    "        scanf(\"%ld\",&c[i]);\n",
    "    }\n",
    "    for(i=0;i<num_box;i++)\n",
    "    {\n",
    "        for(j=i+1;j<num_box;j++)\n",
    "        {\n",
    "            if(c[i]>c[j])\n",
    "            {\n",
    "                temp=c[i];\n",
    "                c[i]=c[j];\n",
    "                c[j]=temp;\n",
    "            }\n",
    "        }\n",
    "    }\n",
    "    sum=0;\n",
    "    k=0;\n",
    "    for(i=0;i<num_box;i++)\n",
    "    {\n",
    "        sum=sum+c[i];\n",
    "        s[k]=sum;\n",
    "        k++;\n",
    "    }\n",
    "    times=0;\n",
    "    printf(\"Minimum time requried:\");\n",
    "    for(i=1;i<k;i++)\n",
    "    times=times+s[i];\n",
    "    \n",
    "    printf(\"%d\\n\",times);\n",
    "    \n",
    "    return 0;\n",
    "}"
   ]
  },
  {
   "cell_type": "markdown",
   "metadata": {},
   "source": [
    " Enter the number of test case:1\n",
    " \n",
    "Enter the number of boxes:5\n",
    "\n",
    "Enter the number of candies in each box:1 2 3 4 5\n",
    "\n",
    "Minimum time requried:34\n"
   ]
  },
  {
   "cell_type": "code",
   "execution_count": null,
   "metadata": {},
   "outputs": [],
   "source": []
  }
 ],
 "metadata": {
  "kernelspec": {
   "display_name": "Python 3",
   "language": "python",
   "name": "python3"
  },
  "language_info": {
   "codemirror_mode": {
    "name": "ipython",
    "version": 3
   },
   "file_extension": ".py",
   "mimetype": "text/x-python",
   "name": "python",
   "nbconvert_exporter": "python",
   "pygments_lexer": "ipython3",
   "version": "3.7.6"
  }
 },
 "nbformat": 4,
 "nbformat_minor": 4
}
