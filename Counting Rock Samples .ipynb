{
 "cells": [
  {
   "cell_type": "markdown",
   "metadata": {},
   "source": [
    "# Counting Rock Samples "
   ]
  },
  {
   "cell_type": "markdown",
   "metadata": {},
   "source": [
    "## Problem Description"
   ]
  },
  {
   "cell_type": "markdown",
   "metadata": {},
   "source": [
    "Juan Marquinho is a geologist and he needs to count rock samples in order to send it to a chemical laboratory. He has a problem: The laboratory only accepts rock samples by a range of its size in ppm (parts per million).\n",
    "\n",
    "Juan Marquinho receives the rock samples one by one and he classifies the rock samples according to the range of the laboratory. This process is very hard because the number of rock samples may be in millions.\n",
    "\n",
    "Juan Marquinho needs your help, your task is to develop a program to get the number of rocks in each of the ranges accepted by the laboratory.\n",
    "\n",
    "### Input Format: \n",
    "An positive integer S (the number of rock samples) separated by a blank space, and a positive integer R (the number of ranges of the laboratory); A list of the sizes of S samples (in ppm), as positive integers separated by space R lines where the ith line containing two positive integers, space separated, indicating the minimum size and maximum size respectively of the ith range.\n",
    "\n",
    "### Output Format: \n",
    "R lines where the ith line contains a single non-negative integer indicating the number of the samples which lie in the ith range."
   ]
  },
  {
   "cell_type": "markdown",
   "metadata": {},
   "source": [
    "### Constraints:\n",
    "\n",
    "10 <= S <= 10000\n",
    "1 <= R <= 1000000\n",
    "1<=size of Sample <= 1000\n",
    "#### Example 1\n",
    "###### Input: \n",
    "10 2\n",
    "\n",
    "345 604 321 433 704 470 808 718 517 811\n",
    "\n",
    "300 350\n",
    "\n",
    "400 700\n",
    "###### Output: 2 4"
   ]
  },
  {
   "cell_type": "markdown",
   "metadata": {},
   "source": [
    "### Python Code"
   ]
  },
  {
   "cell_type": "code",
   "execution_count": 1,
   "metadata": {},
   "outputs": [
    {
     "name": "stdout",
     "output_type": "stream",
     "text": [
      "10 2\n",
      "345 604 321 433 704 470 808 718 517 811 \n",
      "300 350\n",
      "2\n",
      "400 700\n",
      "4\n"
     ]
    }
   ],
   "source": [
    "import bisect\n",
    "if __name__==\"__main__\":\n",
    "    s,r = map(int,input().split())\n",
    "    arr  = list(map(int,input().split()))\n",
    "    arr.sort()\n",
    "    for i in range(r):\n",
    "        lower,upper = map(int,input().split())\n",
    "        indl= bisect.bisect_left(arr,lower)\n",
    "        if indl==len(arr):\n",
    "            print(0)\n",
    "            continue\n",
    "        indu = bisect.bisect_right(arr,upper)\n",
    "        if indu==0:\n",
    "            print(0)\n",
    "            continue\n",
    "        print(indu-indl)"
   ]
  },
  {
   "cell_type": "markdown",
   "metadata": {},
   "source": [
    "### C Code"
   ]
  },
  {
   "cell_type": "code",
   "execution_count": null,
   "metadata": {},
   "outputs": [],
   "source": [
    "#include  <stdio.h>  \n",
    "int main() {\n",
    "int a[1000],s,i,j,t,l1,l2,c=0;\n",
    "printf(\"Enter the number of elements : \");\n",
    "scanf(\"%d\",&s);\n",
    "printf(\"Enter the number of ranges : \");\n",
    "scanf(\"%d\",&t);\n",
    "printf(\"Enter the elements : \");\n",
    "for(i=0;i<s;i++)\n",
    "scanf(\"%d\",&a[i]);\n",
    "printf(\"Enter the range : \");\n",
    "for(i=0;i<t;i++)\n",
    "{\n",
    "scanf(\"%d %d\",&l1,&l2);\n",
    "for(j=0;j<s;j++) { if((a[j]>=l1)&&(a[j]<=l2))\n",
    "  c++;\n",
    "}\n",
    "printf(\"The desired output %d \",c);\n",
    "c=0;\n",
    "}\n",
    "return 0;\n",
    "}"
   ]
  },
  {
   "cell_type": "markdown",
   "metadata": {},
   "source": [
    " Enter the number of elements : 10 2 \n",
    "Enter the number of ranges : Enter the elements : 345 604 321 433 704 470 808 718  517 811\n",
    "Enter the range : 300 350\n",
    "The desired output 2 \n",
    "400\n",
    "700\n",
    "The desired output 4 \n",
    "\n"
   ]
  },
  {
   "cell_type": "code",
   "execution_count": null,
   "metadata": {},
   "outputs": [],
   "source": []
  }
 ],
 "metadata": {
  "kernelspec": {
   "display_name": "Python 3",
   "language": "python",
   "name": "python3"
  },
  "language_info": {
   "codemirror_mode": {
    "name": "ipython",
    "version": 3
   },
   "file_extension": ".py",
   "mimetype": "text/x-python",
   "name": "python",
   "nbconvert_exporter": "python",
   "pygments_lexer": "ipython3",
   "version": "3.7.6"
  }
 },
 "nbformat": 4,
 "nbformat_minor": 4
}
