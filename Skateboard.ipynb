{
 "cells": [
  {
   "cell_type": "markdown",
   "metadata": {},
   "source": [
    "# Skateboard"
   ]
  },
  {
   "cell_type": "markdown",
   "metadata": {},
   "source": [
    "The amusement park at Patagonia has introduced a new skateboard competition. The skating surface is a grid of N x N squares. Most squares are so constructed with slopes that it is possible to direct the skateboard in any of up to three directions of the possible four (North ,East, South or West, represented by the letters N, E, S and W respectively). Some squares however have a deep drop from the adjacent square from which it is impossible to go to any adjacent square. These are represented by D (for Drop) in that square. The objective is to maneuver the skateboard to reach the South East corner of the grid, marked F.\n",
    "Each contestant is given a map of the grid, which shows where the Drop squares are (marked D), where the Final destination is (marked F), and, for each other square, the directions it is possible to maneuver the skateboard in that square.\n",
    "The contestant draws lots to determine which of the squares on the boundaries of the grid on the North or the West of the grid (the top or the left in the diagram) he or she should start in. Then, using a map of the grid, he or she needs to try to reach the South East corner destination by maneuvering the skateboard.\n",
    "In some cases, it is impossible to reach the destination. For example, in the diagram above, if one starts at the North East corner (top right in the diagram), the only way is to go is South, until the Drop square is reached (three squares South), and the contestant is stuck there.\n",
    "A contestant asks you to figure out the number of squares at the North or West boundary (top or left boundary in the map) from which it is feasible to reach the destination."
   ]
  },
  {
   "cell_type": "markdown",
   "metadata": {},
   "source": [
    "### Constraints\n",
    "5<=N<=50\n",
    "### Input Format\n",
    "The first line of the input is a positive integer N, which is the number of squares in each side of the grid.\n",
    "The next N lines have a N strings of characters representing the contents of the map for that corresponding row. Each string may be F, representing the Final destination, D, representing a drop square, or a set of up to three of the possible four directions (N,E,S,W) in some random order. These represent the directions in which the contestant can maneuver the skateboard when in that square.\n",
    "\n",
    "### Output\n",
    "The output is one line with the number of North or West border squares from which there is a safe way to maneuver the skateboard to the final destination.\n",
    "\n",
    "### Explanation\n",
    "##### Example 1\n",
    "##### Input\n",
    "6\n",
    "\n",
    "ES,ES,SE,ES,ES,S\n",
    "\n",
    "SE,ES,SE,ES,ES,S\n",
    "\n",
    "ES,ES,SE,ES,SE,S\n",
    "\n",
    "ES,SE,ES,SE,E,D\n",
    "\n",
    "SE,ES,D,WSE,NES,NS\n",
    "\n",
    "E,E,NE,E,E,F\n",
    "\n",
    "###### Output\n",
    "9"
   ]
  },
  {
   "cell_type": "code",
   "execution_count": 1,
   "metadata": {},
   "outputs": [
    {
     "name": "stdout",
     "output_type": "stream",
     "text": [
      "6\n",
      "ES,ES,SE,ES,ES,S\n",
      "SE,ES,SE,ES,ES,S\n",
      "ES,ES,SE,ES,SE,S\n",
      "ES,SE,ES,SE,E,D\n",
      "SE,ES,D,WSE,NES,NS\n",
      "E,E,NE,E,E,F\n",
      "9\n"
     ]
    }
   ],
   "source": [
    "from collections import deque\n",
    "def check(r,c,n):\n",
    "    return r>=0 and r<n and c>=0 and c<n \n",
    "\n",
    "def feasible(sr,sc,grid,n):\n",
    "    visited =[[False]*n for i in range(n)]\n",
    "    visited[sr][sc] =True\n",
    "    d = {'E':[0,1],'W':[0,-1],'S':[1,0],'N':[-1,0]}\n",
    "    queue = deque()\n",
    "    queue.append([sr,sc])\n",
    "    while queue:\n",
    "        curr = queue.popleft()\n",
    "        if curr[0]==(n-1) and curr[1]==(n-1):\n",
    "            return True\n",
    "        string = grid[curr[0]][curr[1]]    \n",
    "        for s in string:    \n",
    "            r = curr[0]+d[s][0]\n",
    "            c = curr[1]+d[s][1]\n",
    "            if check(r,c,n) and grid[r][c]!='D' and visited[r][c]==False:\n",
    "                visited[r][c]=True\n",
    "                queue.append([r,c])\n",
    "    return False            \n",
    "    \n",
    "    \n",
    "n= int(input())\n",
    "grid = [0]*n \n",
    "for i in range(n):\n",
    "    grid[i]=list(input().split(','))\n",
    "count=0\n",
    "for i in range(n):\n",
    "    if grid[0][i]!='D' and feasible(0,i,grid,n):\n",
    "        count+=1 \n",
    "    if i!=0 and grid[i][0]!='D' and feasible(i,0,grid,n):\n",
    "        count+=1 \n",
    "print(count)      "
   ]
  },
  {
   "cell_type": "code",
   "execution_count": null,
   "metadata": {},
   "outputs": [],
   "source": []
  }
 ],
 "metadata": {
  "kernelspec": {
   "display_name": "Python 3",
   "language": "python",
   "name": "python3"
  },
  "language_info": {
   "codemirror_mode": {
    "name": "ipython",
    "version": 3
   },
   "file_extension": ".py",
   "mimetype": "text/x-python",
   "name": "python",
   "nbconvert_exporter": "python",
   "pygments_lexer": "ipython3",
   "version": "3.7.6"
  }
 },
 "nbformat": 4,
 "nbformat_minor": 4
}
