{
 "cells": [
  {
   "cell_type": "markdown",
   "metadata": {},
   "source": [
    "# The Great Chase"
   ]
  },
  {
   "cell_type": "markdown",
   "metadata": {},
   "source": [
    "Welcome to the Planet Zandar, the second most prominent planet in the Milky Way Galaxy (of course after our own Earth). \n",
    "The planet  is in a distress condition, a Group of Galactic pirates, Zorons have stolen the Trident Crystal, which is the main source of energy of the planet, and are escaping the Galaxy. The Nova Corps, the military agency of Zandar, have gathered intelligence that the Zoronion space craft can run in cosmic leaps of exactly D units, (it means that the space craft will move D units from its position in every leap/turn) and is currently I units away from Zandar. \n",
    "The Zandarian Space crafts can run in cosmic leaps of exactly Z units. The Commander of Nova Corps wants to know the smallest number of leaps required to catch Zorons (Note that it is possible to catch the pirates only when they will be at the same point in the cosmic universe). The Zorons, even though are clever thieves, travel in one direction, and keep jumping exactly D units without stopping at any point. The Nova Corps can dial in the number of jumps they need to make (each of them exactly Z units), and reach the place almost instantly. They can then wait there until the Zorons arrive, and recover the Trident Crystal.\n",
    "However, their wizard has told them that there may be situations where it is impossible for the Nova corps to be at the same distance as the Zorons. \n",
    "As the planet is out of power currently, their supercomputers are shut down and they are not able to calculate the required information. As you are there from Earth they have approached you for help.\n",
    "Note: Assume that the Cosmic universe is one dimensional."
   ]
  },
  {
   "cell_type": "markdown",
   "metadata": {},
   "source": [
    "## Input\n",
    "An integer T for number of test cases, followed by T test cases each one consisting of three numbers 1) I :- initial distance of Zorons 2) D:- distance covered in a single cosmic leap by Zoronion space craft. 3) Z:- distance covered by Zandarian space crafts. \n",
    "### Output  \n",
    "Single number, the number of leaps required to catch the pirates, and if it is not possible to catch them, output will be -1\n",
    "Constraints \n",
    " 1 ≤ I,D ≤ 1012 1≤ Z ≤ 109\n",
    "### Example 1\n",
    "##### Input: 2 9 5 12 5 7 9\n",
    " \n",
    "##### Output: 2 6\n",
    "##### Explanation: The first line is 2, so T is 2, and there are 2 test cases.\n",
    "In the first test case, The Zorons will initially be at 9 and then they will leap to 14,19 24.....  The Nova Corps can take leaps of 12 and will catch them nearest at a distance 24, taking 2 leaps 12 and 24.\n",
    "In the second test case, The Zorons will initially be at 5 and then they will leap to 12,19 26, 33, 40, 47, 54.....  The Nova Corps can take leaps of 9 and will catch them nearest at 54, taking 6 leaps.\n",
    "Hence the output has 2 lines, 2 and 6."
   ]
  },
  {
   "cell_type": "markdown",
   "metadata": {},
   "source": [
    "# Python Code"
   ]
  },
  {
   "cell_type": "code",
   "execution_count": 4,
   "metadata": {},
   "outputs": [
    {
     "name": "stdout",
     "output_type": "stream",
     "text": [
      "2\n",
      "9 5 12\n",
      "2\n",
      "5 7 9\n",
      "6\n"
     ]
    }
   ],
   "source": [
    "if __name__ == \"__main__\":\n",
    "    for _ in range(int(input())):\n",
    "        I,D,Z = map(int,input().split())\n",
    "        if D>=Z:\n",
    "            print(-1)\n",
    "            continue\n",
    "        t=1\n",
    "        while(1):\n",
    "            val = (Z*t-I)/D\n",
    "            if int(val)==val:\n",
    "                break\n",
    "            t+=1\n",
    "        print(t)"
   ]
  },
  {
   "cell_type": "markdown",
   "metadata": {},
   "source": [
    "# C Code"
   ]
  },
  {
   "cell_type": "code",
   "execution_count": null,
   "metadata": {},
   "outputs": [],
   "source": [
    "#include <stdio.h>\n",
    "int main() {\n",
    " int i,d,z,s,l,k,c=0,j,t;\n",
    " scanf(\"%d\",&t);\n",
    " for(j=0;j<t;j++)\n",
    " {\n",
    " scanf(\"%d\",&i);\n",
    " scanf(\"%d\",&d);\n",
    " scanf(\"%d\",&z);\n",
    " c=0;\n",
    " s=1;\n",
    " while(s!=0)\n",
    " {\n",
    "     i=i+d;\n",
    "     for(k=2;k<=z;k++)\n",
    "     {\n",
    "         if(((i%k)==0)&&((z%k)==0))\n",
    "         ++c;\n",
    "     }\n",
    "         if(c==0)\n",
    "         {\n",
    "         printf(\"-1 \");\n",
    "         break;\n",
    "         }\n",
    "     \n",
    "     s=i%z;\n",
    "     if(s==0)\n",
    "     {\n",
    "         l=i/z;\n",
    "         printf(\"%d \",l);\n",
    "     }\n",
    "     l=0;\n",
    " }\n",
    " }\n",
    " return 0;\n",
    "}"
   ]
  },
  {
   "cell_type": "markdown",
   "metadata": {},
   "source": [
    "1 10 15 20\n",
    "\n",
    "2 \n",
    "\n"
   ]
  },
  {
   "cell_type": "code",
   "execution_count": null,
   "metadata": {},
   "outputs": [],
   "source": []
  }
 ],
 "metadata": {
  "kernelspec": {
   "display_name": "Python 3",
   "language": "python",
   "name": "python3"
  },
  "language_info": {
   "codemirror_mode": {
    "name": "ipython",
    "version": 3
   },
   "file_extension": ".py",
   "mimetype": "text/x-python",
   "name": "python",
   "nbconvert_exporter": "python",
   "pygments_lexer": "ipython3",
   "version": "3.7.6"
  }
 },
 "nbformat": 4,
 "nbformat_minor": 4
}
