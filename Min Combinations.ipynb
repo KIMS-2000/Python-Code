{
 "cells": [
  {
   "cell_type": "markdown",
   "metadata": {},
   "source": [
    "# Min Combinations"
   ]
  },
  {
   "cell_type": "markdown",
   "metadata": {},
   "source": [
    "## Problem Description\n",
    "\n",
    "Alexander The great, while roaming the stretch of Turkey, came across a wise man. He asked the wise man, \"Who is the greatest conqueror of all?\". The wise man replied, \"A person with great strength and intelligence. Whosoever can solve my puzzle will go on to become the greatest!\". The puzzle is as follows; Given two integers 'n1' and 'n2', select two integers 'a' and 'b', such as to solve the equation (n1 * a + n2 * b = x). But there is a catch, 'x' is the smallest positive integer which satisfies the equation. Can you help Alexander become the greatest?\n",
    "\n",
    "\n",
    "### Constraints\n",
    "\n",
    "1 <= T <= 1000\n",
    "\n",
    "-10^7 <= a, b <= 10^7\n",
    "\n",
    "0 <= n1, n2 <= 10^7\n",
    "\n",
    "### Input Format\n",
    "\n",
    "The first line contains the number of Test cases T.\n",
    "\n",
    "Next T lines contains two space-separated integers, n1 and n2.\n",
    "\n",
    "### Output\n",
    "\n",
    "Print the value of x.\n",
    "\n",
    "Test Case\n",
    "\n",
    "#### Explanation\n",
    "\n",
    "Example 1\n",
    "\n",
    "##### Input\n",
    "\n",
    "1 \n",
    "\n",
    "34818  45632\n",
    "\n",
    "##### Output\n",
    "\n",
    "2 "
   ]
  },
  {
   "cell_type": "markdown",
   "metadata": {},
   "source": [
    "# C Code"
   ]
  },
  {
   "cell_type": "code",
   "execution_count": null,
   "metadata": {},
   "outputs": [],
   "source": [
    "#include <stdio.h> \n",
    "int gcd(int a, int b) \n",
    "{ \n",
    " if (b == 0) \n",
    "  return a; \n",
    " return gcd(b, a % b); \n",
    "} \n",
    "\n",
    "int main() \n",
    "{ \n",
    " int a,b,t,i;\n",
    " scanf(\"%d\",&t);\n",
    " for(i=0;i<t;i++)\n",
    " {\n",
    " scanf(\"%d %d\",&a,&b);\n",
    " printf(\"%d\\n\", gcd(a, b)); \n",
    " }\n",
    " return 0; \n",
    "} "
   ]
  },
  {
   "cell_type": "markdown",
   "metadata": {},
   "source": [
    "1\n",
    "\n",
    "34818 45632\n",
    "\n",
    "Output : 2\n",
    "\n",
    "\n"
   ]
  },
  {
   "cell_type": "markdown",
   "metadata": {},
   "source": [
    "# Java Code"
   ]
  },
  {
   "cell_type": "code",
   "execution_count": null,
   "metadata": {},
   "outputs": [],
   "source": [
    "import java.io.*;\n",
    "import java.util.*;\n",
    "class Main\n",
    "{\n",
    "                public static int Result(int a, int b)\n",
    "                {\n",
    "                                if (a == 0)\n",
    "                                return b;\n",
    "\n",
    "                                return Result(b % a, a);\n",
    "                }\n",
    "                public static void main(String[] args)throws IOException\n",
    "                {\n",
    "                                Scanner scan=new Scanner(System.in);\n",
    "                                int t=scan.nextInt();\n",
    "                                if(t<1 || t>1000)\n",
    "                                                System.exit(0);\n",
    "                                for(int i=0;i<t;i++)\n",
    "                                {\n",
    "                                                int n=scan.nextInt();\n",
    "                                                int n1=scan.nextInt();\n",
    "                                                if(n<Math.pow(-10,7) || n>Math.pow(10,7))\n",
    "                                                                System.exit(0);\n",
    "                                                System.out.println(Result(n1,n));\n",
    "                                }\n",
    "                }\n",
    "\n",
    "}"
   ]
  },
  {
   "cell_type": "code",
   "execution_count": null,
   "metadata": {},
   "outputs": [],
   "source": []
  }
 ],
 "metadata": {
  "kernelspec": {
   "display_name": "Python 3",
   "language": "python",
   "name": "python3"
  },
  "language_info": {
   "codemirror_mode": {
    "name": "ipython",
    "version": 3
   },
   "file_extension": ".py",
   "mimetype": "text/x-python",
   "name": "python",
   "nbconvert_exporter": "python",
   "pygments_lexer": "ipython3",
   "version": "3.7.6"
  }
 },
 "nbformat": 4,
 "nbformat_minor": 4
}
