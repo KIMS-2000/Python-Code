{
 "cells": [
  {
   "cell_type": "markdown",
   "metadata": {},
   "source": [
    "# Distribute Books"
   ]
  },
  {
   "cell_type": "markdown",
   "metadata": {},
   "source": [
    "### Problem Description\n",
    "For enhancing the book reading, school distributed story books to students as part of the Children’s day celebrations.\n",
    "\n",
    "To increase the reading habit, the class teacher decided to exchange the books every weeks so that everyone will have a different book to read. She wants to know how many possible exchanges are possible.\n",
    "\n",
    "If they have 4 books and students, the possible exchanges are 9. Bi is the book of i-th student and after the exchange he should get a different book, other than Bi.\n",
    "\n",
    "B1 B2 B3 B4 - first state, before exchange of the books\n",
    "B2 B1 B4 B3\n",
    "\n",
    "B2 B3 B4 B1\n",
    "\n",
    "B2 B4 B1 B3\n",
    "\n",
    "B3 B1 B4 B2\n",
    "\n",
    "B3 B4 B1 B2\n",
    "\n",
    "B3 B4 B2 B1\n",
    "\n",
    "B4 B1 B2 B3\n",
    "\n",
    "B4 B3 B1 B2\n",
    "\n",
    "B4 B3 B2 B1\n",
    "\n",
    "Find the number of possible exchanges, if the books are exchanged so that every student will receive a different book."
   ]
  },
  {
   "cell_type": "markdown",
   "metadata": {},
   "source": [
    "### Constraints\n",
    "\n",
    "1<= N <= 1000000\n",
    "\n",
    "#### Input Format\n",
    "\n",
    "Input contains one line with N, indicates the number of books and number of students.\n",
    "\n",
    "#### Output\n",
    "\n",
    "Output the answer modulo 1000000007.\n",
    "\n",
    "Test Case\n",
    "\n",
    "#### Explanation\n",
    "\n",
    "#### Example 1\n",
    "\n",
    "Input:\n",
    "\n",
    "4 \n",
    "\n",
    "Output:\n",
    "\n",
    "9"
   ]
  },
  {
   "cell_type": "markdown",
   "metadata": {},
   "source": [
    "# Python Code"
   ]
  },
  {
   "cell_type": "code",
   "execution_count": 1,
   "metadata": {},
   "outputs": [
    {
     "name": "stdout",
     "output_type": "stream",
     "text": [
      "4\n",
      "9\n"
     ]
    }
   ],
   "source": [
    "n=int(input())\n",
    "\n",
    "f=[0,1] #previous two sub factorials\n",
    "\n",
    "i=3\n",
    "\n",
    "if n==1:\n",
    "\n",
    "    print(f[n-1])\n",
    "\n",
    "elif n==2:\n",
    "\n",
    "    print(f[n-1])\n",
    "\n",
    "else:\n",
    "\n",
    "    while i<(n+1):\n",
    "\n",
    "        f.append(((i-1)*(f[0]+f[1]))%1000000007)  \n",
    "\n",
    "        f.pop(0)\n",
    "\n",
    "        i=i+1\n",
    "\n",
    "print(f[1])"
   ]
  },
  {
   "cell_type": "markdown",
   "metadata": {},
   "source": [
    "# Java Code"
   ]
  },
  {
   "cell_type": "code",
   "execution_count": null,
   "metadata": {},
   "outputs": [],
   "source": [
    "import java.io.*;\n",
    "import java.util.*;\n",
    "class Main\n",
    "{\n",
    "                static int der(int n)\n",
    "                {\n",
    "                                if (n == 1)\n",
    "                                                return 0;\n",
    "                                if (n == 0)\n",
    "                                                return 1;\n",
    "                                if (n == 2)\n",
    "                                                return 1;\n",
    "                                return (n-1)*(der(n-1)+der(n-2));\n",
    "                               \n",
    "                }\n",
    "                public static void main(String[] args)throws IOException\n",
    "                {\n",
    "                                Scanner scan=new Scanner(System.in);\n",
    "                                int n=scan.nextInt();\n",
    "                                if(n<1 || n>100000)\n",
    "                                                System.exit(0);\n",
    "                                System.out.println(der(n));\n",
    "\n",
    "                }\n",
    "}\n"
   ]
  },
  {
   "cell_type": "code",
   "execution_count": null,
   "metadata": {},
   "outputs": [],
   "source": []
  }
 ],
 "metadata": {
  "kernelspec": {
   "display_name": "Python 3",
   "language": "python",
   "name": "python3"
  },
  "language_info": {
   "codemirror_mode": {
    "name": "ipython",
    "version": 3
   },
   "file_extension": ".py",
   "mimetype": "text/x-python",
   "name": "python",
   "nbconvert_exporter": "python",
   "pygments_lexer": "ipython3",
   "version": "3.7.6"
  }
 },
 "nbformat": 4,
 "nbformat_minor": 4
}
