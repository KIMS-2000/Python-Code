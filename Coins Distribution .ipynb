{
 "cells": [
  {
   "cell_type": "markdown",
   "metadata": {},
   "source": [
    "# Coins Distribution/Coins Required"
   ]
  },
  {
   "cell_type": "markdown",
   "metadata": {},
   "source": [
    "Find the minimum number of coins required to form any value between 1 to N, both inclusive. Cumulative value of coins should not exceed N. Coin denominations are 1 Rupee, 2 Rupee and 5 Rupee.\n",
    "\n",
    "\n",
    "\n",
    "Let's understand the problem using the following example. Consider the value of N is 13, then the minimum number of coins required to formulate any value between 1 and 13, is 6. One 5 Rupee, three 2 Rupee and two 1 Rupee coins are required to realize any value between 1 and 13. Hence this is the answer.\n",
    "\n",
    "\n",
    "\n",
    "However, if one takes two 5 Rupee coins, one 2 rupee coins and two 1 rupee coins, then to all values between 1 and 13 are achieved. But since the cumulative value of all coins equals 14, i.e., exceeds 13, this is not the answer. "
   ]
  },
  {
   "cell_type": "markdown",
   "metadata": {},
   "source": [
    "### Input Format \n",
    "\n",
    "A single integer value"
   ]
  },
  {
   "cell_type": "markdown",
   "metadata": {},
   "source": [
    "### Output Format \n",
    "\n",
    "Four Space separated Integer Values \n",
    "\n",
    "1st – Total Number of coins \n",
    "\n",
    "2nd – number of 5 Rupee coins. \n",
    "\n",
    "3rd – number of 2 Rupee coins. \n",
    "\n",
    "4th – number of 1 Rupee coins. \n"
   ]
  },
  {
   "cell_type": "markdown",
   "metadata": {},
   "source": [
    "### Constraints \n",
    "\n",
    "0<n<1000 \n",
    "\n",
    "\n",
    "#### Sample Input: \n",
    "\n",
    "13\n",
    "\n",
    "\n",
    "\n",
    "#### Sample Output: \n",
    "\n",
    "6 1 3 2\n",
    "\n"
   ]
  },
  {
   "cell_type": "code",
   "execution_count": 1,
   "metadata": {},
   "outputs": [
    {
     "name": "stdout",
     "output_type": "stream",
     "text": [
      "13\n",
      "6 1 3 2\n"
     ]
    }
   ],
   "source": [
    "#get the input\n",
    "number = int(input())\n",
    "\n",
    "\n",
    "#find the number of five rupee coins\n",
    "#maximize possible number of coins, after leavinf out 4 rupees to make all possible values till 4\n",
    "five = int((number-4)/5)\n",
    "\n",
    "\n",
    "#find the number of one rupee coins\n",
    "#of the remaining value, number of one rupee coins is 1, if the value is odd & it is 2 if the value is even\n",
    "if((number-5*five) % 2) == 0:\n",
    "    one=2\n",
    "else:\n",
    "    one=1\n",
    "\n",
    "\n",
    "#find the number of two rupee coins\n",
    "#the rest of the amount will be from two rupee coins\n",
    "two=(number-5*five-one)//2\n",
    "\n",
    "\n",
    "#print total coins, five ruppe coins, two rupee coins, one rupee coins    \n",
    "print(one+two+five,five,two,one)"
   ]
  },
  {
   "cell_type": "code",
   "execution_count": null,
   "metadata": {},
   "outputs": [],
   "source": []
  }
 ],
 "metadata": {
  "kernelspec": {
   "display_name": "Python 3",
   "language": "python",
   "name": "python3"
  },
  "language_info": {
   "codemirror_mode": {
    "name": "ipython",
    "version": 3
   },
   "file_extension": ".py",
   "mimetype": "text/x-python",
   "name": "python",
   "nbconvert_exporter": "python",
   "pygments_lexer": "ipython3",
   "version": "3.7.6"
  }
 },
 "nbformat": 4,
 "nbformat_minor": 4
}
