{
 "cells": [
  {
   "cell_type": "markdown",
   "metadata": {},
   "source": [
    "# Jumping Beetle"
   ]
  },
  {
   "cell_type": "markdown",
   "metadata": {},
   "source": [
    " A beetle on a board of size M X M squares.  Each square has coordinates, a pair of integers (i,j), where i is the row number and j is the column number. Associated with each square is the coordinates of the square it jumps to when it lands there. as an example , in the 6 X 6 board below, the beetle jumps to (2,3) from (1,1), and jumps to (5,2) from (6,4) .\n",
    "If the starting location is given, the target is to see the position of the beetle after a large NO. of jumps.\n",
    "  2,3   2,4\t 2,1\t 3,5\t 3,4\t 4,2\n",
    " 2,3   2,4\t 3,1\t 3,6\t 4,4\t 1,4\n"
   ]
  },
  {
   "cell_type": "markdown",
   "metadata": {},
   "source": [
    "### Input  Format\n",
    "1st Line\n",
    "Input has 3 comma separated positive integers M,A,B. M is the length of a side of the board (the board is of size M X M). The NO.of jumps the beetle makes is AB (A multiplied by B)\n",
    "The next M lines\n",
    "consist of M pairs of comma separated positive integers, each pair separated by a semicolon(;). The Mth pair in each line i.e k shows the coordinates of the square it jumps to if and only if  it lands on square (k,m).\n",
    "Finally, there is one line with a comma separated pair of no.  giving the initial position of the Jumping Beetle\n",
    "#### Output Format\n",
    "The output is the coordinates of the beetle’s position after A,B moves\n",
    "Constraints \n",
    "6<= M <=20\n",
    "1<=A,B<109\n",
    "#### Example 1\n",
    "6,2,3\n",
    "\n",
    "2,3;2,4;2,1;3,5;3,4;4,2 \n",
    "\n",
    "4,2;4,1;3,1;3,6;4,4;1,4 \n",
    "\n",
    "1,2;1,3;4,5;5,5;2,1;1,5 \n",
    "\n",
    "6,2;6,1;2,2;5,6;2,6;2,5 \n",
    "\n",
    "3,2;3,3;6,5;6,6;6,3;6,4 \n",
    "\n",
    "5,3;5,4;5,1;5,2;4,6;1,6 \n",
    "\n",
    "1,2 \n",
    "###### Output\n",
    "6,3 "
   ]
  },
  {
   "cell_type": "code",
   "execution_count": 1,
   "metadata": {},
   "outputs": [
    {
     "name": "stdout",
     "output_type": "stream",
     "text": [
      "6,2,3\n",
      "2,3;2,4;2,1;3,5;3,4;4,2\n",
      "4,2;4,1;3,1;3,6;4,4;1,4\n",
      "1,2;1,3;4,5;5,5;2,1;1,5\n",
      "6,2;6,1;2,2;5,6;2,6;2,5\n",
      "3,2;3,3;6,5;6,6;6,3;6,4\n",
      "5,3;5,4;5,1;5,2;4,6;1,6\n",
      "1,2\n",
      "6,3\n"
     ]
    }
   ],
   "source": [
    "\tif __name__==\"__main__\":\n",
    "    n,p,q = map(int,input().split(','))\n",
    "    arr =[0]*n\n",
    "    for i in range(n):\n",
    "        arr[i] = list(input().split(';'))\n",
    "    row,col = map(int,input().split(','))\n",
    "    row,col=row-1,col-1\n",
    "    total_move=p*q\n",
    "    for i in range(total_move):\n",
    "        ind = arr[row][col]\n",
    "        row,col = map(int,ind.split(','))\n",
    "        row,col=row-1,col-1\n",
    "    print(ind) "
   ]
  },
  {
   "cell_type": "code",
   "execution_count": null,
   "metadata": {},
   "outputs": [],
   "source": []
  }
 ],
 "metadata": {
  "kernelspec": {
   "display_name": "Python 3",
   "language": "python",
   "name": "python3"
  },
  "language_info": {
   "codemirror_mode": {
    "name": "ipython",
    "version": 3
   },
   "file_extension": ".py",
   "mimetype": "text/x-python",
   "name": "python",
   "nbconvert_exporter": "python",
   "pygments_lexer": "ipython3",
   "version": "3.7.6"
  }
 },
 "nbformat": 4,
 "nbformat_minor": 4
}
