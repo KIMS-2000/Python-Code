{
 "cells": [
  {
   "cell_type": "markdown",
   "metadata": {},
   "source": [
    "# String Rotation"
   ]
  },
  {
   "cell_type": "markdown",
   "metadata": {},
   "source": [
    "Rotate a given String in the specified direction by specified magnitude.\n",
    "After each rotation make a note of the first character of the rotated String, After all rotation are performed the accumulated first character as noted previously will form another string, say FIRSTCHARSTRING.\n",
    "Check If FIRSTCHARSTRING is an Anagram of any substring of the Original string.\n",
    "If yes print \"YES\" otherwise \"NO\". Input\n",
    "The first line contains the original string s. The second line contains a single integer q. The ith of the next q lines contains character d[i] denoting direction and integer r[i] denoting the magnitude."
   ]
  },
  {
   "cell_type": "markdown",
   "metadata": {},
   "source": [
    "## Constraints\n",
    "1 <= Length of original string <= 30\n",
    "\n",
    "1<= q <= 10\n",
    "\n",
    "## Output\n",
    "YES or NO"
   ]
  },
  {
   "cell_type": "code",
   "execution_count": null,
   "metadata": {},
   "outputs": [],
   "source": [
    "from copy import deepcopy\n",
    "from collections import Counter\n",
    "string = input()\n",
    "s=deepcopy(string)\n",
    "q = int(input())\n",
    "sol= []\n",
    "for i in range(q):\n",
    "    d,a = input().split()\n",
    "    d = d.upper()\n",
    "    a=int(a)\n",
    "    if d=='L':\n",
    "        s = s[a:]+s[:a]\n",
    "        sol.append(s[0])\n",
    "    if d=='R':\n",
    "        s=s[-a:]+s[:-a]\n",
    "        sol.append(s[0])\n",
    "len1 = len(string)\n",
    "len2 = len(sol)\n",
    "d={}\n",
    "for x in sol:\n",
    "    if x in d:\n",
    "        d[x]+= 1 \n",
    "    else:\n",
    "        d[x] = 1\n",
    "        \n",
    "flag=False\n",
    "for i in range(len1-len2+1):\n",
    "    counter = Counter(string[i:i+len2])        \n",
    "    if counter==d:\n",
    "        print('YES')\n",
    "        flag=True\n",
    "        break\n",
    "if flag==False:\n",
    "    print(\"NO\")"
   ]
  },
  {
   "cell_type": "markdown",
   "metadata": {},
   "source": [
    " input can be given as text\n",
    " \n",
    "carrace\n",
    "3\n",
    "\n",
    "r 2\n",
    "\n",
    "l 1\n",
    "\n",
    "r 2\n"
   ]
  },
  {
   "cell_type": "markdown",
   "metadata": {},
   "source": [
    "Yes"
   ]
  },
  {
   "cell_type": "code",
   "execution_count": null,
   "metadata": {},
   "outputs": [],
   "source": []
  }
 ],
 "metadata": {
  "kernelspec": {
   "display_name": "Python 3",
   "language": "python",
   "name": "python3"
  },
  "language_info": {
   "codemirror_mode": {
    "name": "ipython",
    "version": 3
   },
   "file_extension": ".py",
   "mimetype": "text/x-python",
   "name": "python",
   "nbconvert_exporter": "python",
   "pygments_lexer": "ipython3",
   "version": "3.7.6"
  }
 },
 "nbformat": 4,
 "nbformat_minor": 4
}
