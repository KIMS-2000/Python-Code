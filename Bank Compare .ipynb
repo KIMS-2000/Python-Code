{
 "cells": [
  {
   "cell_type": "markdown",
   "metadata": {},
   "source": [
    "# Bank Compare Problem"
   ]
  },
  {
   "cell_type": "markdown",
   "metadata": {},
   "source": [
    "There are two banks – Bank A and Bank B. Their interest rates vary. You have received offers from both banks in terms of the annual rate of interest, tenure, and variations of the rate of interest over the entire tenure.You have to choose the offer which costs you least interest and reject the other. Do the computation and make a wise choice.\n",
    "\n",
    "The loan repayment happens at a monthly frequency and Equated Monthly Installment (EMI) is calculated using the formula given below :\n",
    "\n",
    "EMI = loanAmount * monthlyInterestRate / ( 1 – 1 / (1 + monthlyInterestRate)^(numberOfYears * 12))\n",
    "\n",
    " "
   ]
  },
  {
   "cell_type": "markdown",
   "metadata": {},
   "source": [
    "# Constraints:\n",
    "\n",
    "1 <= P <= 1000000\n",
    "\n",
    "1 <=T <= 50\n",
    "\n",
    "1<= N1 <= 30\n",
    "\n",
    "1<= N2 <= 30\n",
    " "
   ]
  },
  {
   "cell_type": "markdown",
   "metadata": {},
   "source": [
    "# Input Format:\n",
    "\n",
    "First line: P principal (Loan Amount)\n",
    "\n",
    "Second line: T Total Tenure (in years).\n",
    "\n",
    "Third Line: N1 is the number of slabs of interest rates for a given period by Bank A. First slab starts from the first year and the second slab starts from the end of the first slab and so on.\n",
    "\n",
    "Next N1 line will contain the period  and their interest rate respectively.\n",
    "\n",
    "After N1 lines we will receive N2 viz. the number of slabs offered by the second bank.\n",
    "\n",
    "Next N2 lines are the number of slabs of interest rates for a given period by Bank B. The first slab starts from the first year and the second slab starts from the end of the first slab and so on.\n",
    "\n",
    "The period and rate will be delimited by single white space."
   ]
  },
  {
   "cell_type": "markdown",
   "metadata": {},
   "source": [
    "# Output Format: \n",
    "Your decision either Bank A or Bank B."
   ]
  },
  {
   "cell_type": "code",
   "execution_count": 1,
   "metadata": {},
   "outputs": [
    {
     "name": "stdout",
     "output_type": "stream",
     "text": [
      "1000\n",
      "20\n",
      "3\n",
      "5 9.5\n",
      "10 9.6\n",
      "5 8.5\n",
      "3\n",
      "10 6.9\n",
      "5 8.5\n",
      "5 7.9\n",
      "Bank B\n"
     ]
    }
   ],
   "source": [
    "bank = []\n",
    "principal = int(input())\n",
    "year = int(input())\n",
    "for i in range(0, 2): # 2 Banks\n",
    "    installments = int(input())\n",
    "    sum = 0\n",
    "    for i in range(0, installments):\n",
    "        time, roi = [float(i) for i in input().split()]\n",
    "        square = pow((1+roi), time*12)\n",
    "        emi = (principal*(roi)/(1-1/square))\n",
    "        sum = sum + emi\n",
    "    bank.append(sum)\n",
    "if bank[0] < bank[1]:\n",
    "    print(\"Bank A\")\n",
    "else:\n",
    "    print(\"Bank B\")"
   ]
  },
  {
   "cell_type": "code",
   "execution_count": null,
   "metadata": {},
   "outputs": [],
   "source": [
    "#include stdio.h>\n",
    "#include <math.h>\n",
    "int main()\n",
    " {\n",
    "double p,s,mi,sum,emi,bank[5],sq;\n",
    "int y,n,k,i,yrs,l=0;\n",
    "  scanf(\" %lf\",&p);\n",
    "scanf(\" %d\",&y);\n",
    "for(k=0;k<2;k++)\n",
    "{\n",
    "scanf(\" %d\",&n);\n",
    "sum=0;\n",
    "for(i=0;i<n;i++)\n",
    "{\n",
    "  scanf(\" %d\",&yrs);\n",
    "  scanf(\" %lf\",&s);\n",
    "  mi=0;\n",
    "  sq=pow((1+s),yrs*12);\n",
    "  emi= (p*(s))/(1-1/sq);\n",
    "  sum= sum + emi;\n",
    "}bank[l++]=sum;\n",
    "\n",
    "}\n",
    "\n",
    "if(bank[0]<bank[1])\n",
    "\n",
    "printf(\" Bank A \");\n",
    "\n",
    "else\n",
    "\n",
    "printf(\" Bank B \");\n",
    "\n",
    "return 0;\n",
    "\n",
    "}"
   ]
  },
  {
   "cell_type": "markdown",
   "metadata": {},
   "source": [
    "1000\n",
    "\n",
    "20\n",
    "\n",
    "3\n",
    "\n",
    "5 9.5\n",
    "\n",
    "10 9.6\n",
    "\n",
    "5 8.5\n",
    "\n",
    "3\n",
    "\n",
    "10 6.9\n",
    "\n",
    "5 8.5\n",
    "\n",
    "5 7.9\n",
    "\n",
    " Bank B \n"
   ]
  },
  {
   "cell_type": "code",
   "execution_count": null,
   "metadata": {},
   "outputs": [],
   "source": []
  }
 ],
 "metadata": {
  "kernelspec": {
   "display_name": "Python 3",
   "language": "python",
   "name": "python3"
  },
  "language_info": {
   "codemirror_mode": {
    "name": "ipython",
    "version": 3
   },
   "file_extension": ".py",
   "mimetype": "text/x-python",
   "name": "python",
   "nbconvert_exporter": "python",
   "pygments_lexer": "ipython3",
   "version": "3.7.6"
  }
 },
 "nbformat": 4,
 "nbformat_minor": 4
}
