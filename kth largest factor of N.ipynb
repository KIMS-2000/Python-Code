{
 "cells": [
  {
   "cell_type": "markdown",
   "metadata": {},
   "source": [
    "# kth largest factor of N"
   ]
  },
  {
   "cell_type": "markdown",
   "metadata": {},
   "source": [
    "A positive integer d is said to be a factor of another positive integer N if when N is divided by d, the remainder obtained is zero. For example, for number 12, there are 6 factors 1, 2, 3, 4, 6, 12. Every positive integer k has at least two factors, 1 and the number k itself.Given two positive integers N and k, write a program to print the kth largest factor of N.\n",
    "\n",
    "### Input Format: \n",
    "The input is a comma-separated list of positive integer pairs (N, k).\n",
    "\n",
    "### Output Format: \n",
    "The kth highest factor of N. If N does not have k factors, the output should be 1.\n",
    "\n",
    "## Constraints:\n",
    "\n",
    "1<N<10000000000\n",
    "1<k<600.\n",
    "You can assume that N will have no prime factors which are larger than 13.\n",
    "\n",
    "### Example 1\n",
    "\n",
    "Input: 12,3\n",
    "Output: 4\n",
    "Explanation: N is 12, k is 3. The factors of 12 are (1,2,3,4,6,12). The highest factor is 12 and the third largest factor is 4. The output must be 4.\n",
    "\n",
    "### Example 2\n",
    "\n",
    "Input: 30,9\n",
    "Output: 1\n",
    "Explanation: N is 30, k is 9. The factors of 30 are (1,2,3,5,6,10,15,30). There are only 8 factors. As k is more than the number of factors, the output is 1."
   ]
  },
  {
   "cell_type": "markdown",
   "metadata": {},
   "source": [
    "# Python Code"
   ]
  },
  {
   "cell_type": "code",
   "execution_count": 1,
   "metadata": {},
   "outputs": [
    {
     "name": "stdout",
     "output_type": "stream",
     "text": [
      "12,3\n",
      "4\n"
     ]
    }
   ],
   "source": [
    "number, k = [int(i) for i in input().split(\",\")]\n",
    "factor = []\n",
    "count = 0\n",
    "for i in range(1, number+1):\n",
    "    if number % i == 0:\n",
    "        count = count + 1\n",
    "        factor.append(i)\n",
    "\n",
    "if count < k:\n",
    "    print(\"1\")\n",
    "else:\n",
    "    print(factor[-k])"
   ]
  },
  {
   "cell_type": "markdown",
   "metadata": {},
   "source": [
    "# Python Code 2"
   ]
  },
  {
   "cell_type": "code",
   "execution_count": 2,
   "metadata": {},
   "outputs": [
    {
     "name": "stdout",
     "output_type": "stream",
     "text": [
      "12,3\n",
      "4\n"
     ]
    }
   ],
   "source": [
    "import math\n",
    "import heapq\n",
    "def factor(num):\n",
    "    res=[]\n",
    "    for i in range(1,int(math.sqrt(num))+1):\n",
    "        if num%i==0:\n",
    "            res.append(i)\n",
    "            if i!=num//i:\n",
    "                res.append(num//i)\n",
    "        i+=1 \n",
    "    return res    \n",
    "    \n",
    "    \n",
    "if __name__==\"__main__\":\n",
    "    arr = list(input().split(';'))\n",
    "    for i in range(len(arr)):\n",
    "        val=arr[i]\n",
    "        n,k=map(int,val.split(','))\n",
    "        temp = factor(n)\n",
    "        if len(temp)<k:\n",
    "            print(1)\n",
    "        else:\n",
    "            temp2 = heapq.nlargest(k,temp)\n",
    "            print(temp2[-1])"
   ]
  },
  {
   "cell_type": "markdown",
   "metadata": {},
   "source": [
    "# C Code "
   ]
  },
  {
   "cell_type": "code",
   "execution_count": null,
   "metadata": {},
   "outputs": [],
   "source": [
    "#include <stdio.h>\n",
    "void main() \n",
    "{\n",
    "int number,pos_of_factor,i,c=0;\n",
    "scanf(\"%d\",&number);\n",
    "scanf(\"%d\",&pos_of_factor);\n",
    "for(i=number;i>=1;i--)\n",
    "{\n",
    "  if((number%i)==0)\n",
    "  c++;\n",
    "  if(c==pos_of_factor)\n",
    "  {\n",
    "  printf(\"%d\",i);\n",
    "  break;\n",
    "  }\n",
    "}\n",
    "if(c<pos_of_factor)\n",
    "printf(\"1\");\n",
    "}"
   ]
  },
  {
   "cell_type": "markdown",
   "metadata": {},
   "source": [
    "30,9\n",
    "\n",
    "1\n",
    "\n"
   ]
  },
  {
   "cell_type": "code",
   "execution_count": null,
   "metadata": {},
   "outputs": [],
   "source": []
  }
 ],
 "metadata": {
  "kernelspec": {
   "display_name": "Python 3",
   "language": "python",
   "name": "python3"
  },
  "language_info": {
   "codemirror_mode": {
    "name": "ipython",
    "version": 3
   },
   "file_extension": ".py",
   "mimetype": "text/x-python",
   "name": "python",
   "nbconvert_exporter": "python",
   "pygments_lexer": "ipython3",
   "version": "3.7.6"
  }
 },
 "nbformat": 4,
 "nbformat_minor": 4
}
