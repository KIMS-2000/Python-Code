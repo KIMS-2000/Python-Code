{
 "cells": [
  {
   "cell_type": "markdown",
   "metadata": {},
   "source": [
    "# Philaland Coins Problems"
   ]
  },
  {
   "cell_type": "markdown",
   "metadata": {},
   "source": [
    " The problem solvers have found a new Island for coding and named it as Philaland.These smart people were given a task to make purchase of items at the Island easier by distributing various coins with different value.Manish has come up with a solution that if we make coins category starting from $1 till the maximum price of item present on Island, then we can purchase any item easily. He added following example to prove his point.\n",
    "\n",
    "Let’s suppose the maximum price of an item is 5$ then we can make coins of {$1, $2, $3, $4, $5}to purchase any item ranging from $1 till $5.\n",
    "\n",
    "Now Manisha, being a keen observer suggested that we could actually minimize the number of coins required and gave following distribution {$1, $2, $3}. According to him any item can be purchased one time ranging from $1 to $5. Everyone was impressed with both of them.Your task is to help Manisha come up with minimum number of denominations for any arbitrary max price in Philaland."
   ]
  },
  {
   "cell_type": "markdown",
   "metadata": {},
   "source": [
    "#### Input Format\n",
    "First line contains an integer T denoting the number of test cases.\n",
    "\n",
    "Next T lines contains an integer N denoting the maximum price of the item present Philaland."
   ]
  },
  {
   "cell_type": "markdown",
   "metadata": {},
   "source": [
    "### Output Format\n",
    "For each test case print a single line denoting the minimum number of denominations of coins required."
   ]
  },
  {
   "cell_type": "markdown",
   "metadata": {},
   "source": [
    "#### Constraints\n",
    "\n",
    "1<=T<=100\n",
    "\n",
    "1<=N<=5000"
   ]
  },
  {
   "cell_type": "markdown",
   "metadata": {},
   "source": [
    "# Python Code"
   ]
  },
  {
   "cell_type": "code",
   "execution_count": 1,
   "metadata": {},
   "outputs": [
    {
     "name": "stdout",
     "output_type": "stream",
     "text": [
      "2\n",
      "10 5\n",
      "4\n",
      "3\n"
     ]
    }
   ],
   "source": [
    "no_of_ways=int(input())\n",
    "value = list(map(int,input().split()))\n",
    "for i in value:\n",
    "    count = 0\n",
    "    #logic number of coins required will be one more than the earlier rupee value that was a power of 2\n",
    "    while i>=1:\n",
    "        i=i//2\n",
    "        count=count+1\n",
    "    print(count)"
   ]
  },
  {
   "cell_type": "markdown",
   "metadata": {},
   "source": [
    "# C Code"
   ]
  },
  {
   "cell_type": "code",
   "execution_count": null,
   "metadata": {},
   "outputs": [],
   "source": [
    "#include <stdio.h>\n",
    "int sum(int x[],int l)\n",
    "{\n",
    "  int j,s1=0;\n",
    "  for(j=1;j<=l;j++)\n",
    "    s1=s1+x[j];\n",
    "   return s1;\n",
    "}\n",
    "int main() {\n",
    "\tint n,a[100],k=1,i,c,t,j;\n",
    "\tscanf(\"%d\",&t);\n",
    "\tfor(j=0;j<t;j++)\n",
    "\t{\n",
    "\tscanf(\"%d\",&n);\n",
    "\ta[1]=1;\n",
    "\tc=0;\n",
    "\tfor(i=1;i<=n;i++)\n",
    "\t{\n",
    "\t    if(i>sum(a,k))\n",
    "\t    {\n",
    "\t        k++;\n",
    "\t        a[i]=k;\n",
    "\t    }\n",
    "\t}\n",
    "\tfor(i=1;i<=k;i++)\n",
    "\t{\n",
    "\t    if(a[i]!=0)\n",
    "\t    c++;\n",
    "\t}\n",
    "\tprintf(\"%d\\n\",c);\n",
    "\tfor(i=1;i<=k;i++)\n",
    "\ta[i]=0;\n",
    "\tk=1;\n",
    "\t}\n",
    "\treturn 0;\n",
    "}"
   ]
  },
  {
   "cell_type": "markdown",
   "metadata": {},
   "source": [
    "2\n",
    "\n",
    "10 5\n",
    "\n",
    "4\n",
    "\n",
    "3\n",
    "\n",
    "\n"
   ]
  },
  {
   "cell_type": "code",
   "execution_count": null,
   "metadata": {},
   "outputs": [],
   "source": []
  }
 ],
 "metadata": {
  "kernelspec": {
   "display_name": "Python 3",
   "language": "python",
   "name": "python3"
  },
  "language_info": {
   "codemirror_mode": {
    "name": "ipython",
    "version": 3
   },
   "file_extension": ".py",
   "mimetype": "text/x-python",
   "name": "python",
   "nbconvert_exporter": "python",
   "pygments_lexer": "ipython3",
   "version": "3.7.6"
  }
 },
 "nbformat": 4,
 "nbformat_minor": 4
}
